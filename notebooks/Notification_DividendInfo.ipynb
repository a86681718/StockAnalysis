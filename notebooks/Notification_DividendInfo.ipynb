{
 "cells": [
  {
   "cell_type": "code",
   "execution_count": 1,
   "metadata": {},
   "outputs": [],
   "source": [
    "import os\n",
    "import logging\n",
    "import pandas as pd\n",
    "from datetime import datetime, timedelta"
   ]
  },
  {
   "cell_type": "code",
   "execution_count": null,
   "metadata": {},
   "outputs": [],
   "source": [
    "root_path = './'\n",
    "start_dt = datetime.strptime(datetime.now().strftime(\"%Y-%m-%d\"), \"%Y-%m-%d\")\n",
    "end_dt = start_dt + timedelta(days=8)\n",
    "start_year = start_dt.strftime(\"%Y\")\n",
    "end_year = end_dt.strftime(\"%Y\")\n",
    "logging.info(f'start: {start_dt}')\n",
    "logging.info(f'end_dt: {end_dt}')\n",
    "\n",
    "cash_pdf_list = []\n",
    "stock_pdf_list = []\n",
    "for year in set([start_year, end_year]):\n",
    "    # cash dividend\n",
    "    file_name = f'cash_dividend_{}.csv'\n",
    "    if os.path.exists(root_path + os.sep + file_name):\n",
    "        pdf = pd.read_csv(root_path + os.sep + file_name)\n",
    "        pdf['除息交易日'] = pd.to_datetime(pdf['除息交易日'])\n",
    "        sub_pdf = pdf[(pdf['除息交易日']>start_dt) & (pdf['除息交易日']<end_dt)]\n",
    "        cash_pdf_list.append(sub_pdf)\n",
    "    \n",
    "    # stock dividend\n",
    "    file_name = f'stock_dividend_{}.csv'\n",
    "    if os.path.exists(root_path + os.sep + file_name):\n",
    "        pdf = pd.read_csv(root_path + os.sep + file_name)\n",
    "        pdf['除權交易日'] = pd.to_datetime(pdf['除權交易日'])\n",
    "        sub_pdf = pdf[(pdf['除權交易日']>start_dt) & (pdf['除權交易日']<end_dt)]\n",
    "        stock_pdf_list.append(sub_pdf)\n",
    "cash_result_pdf = pd.concat(cash_pdf_list, axis=0, ignore_index=True, sort=False)\n",
    "cash_result_pdf = cash_result_pdf.sort_values(['除息交易日', '股票代號'])[['股票代號', '法說會日期', '地點', '擇要訊息']]\n",
    "stock_result_pdf = pd.concat(stock_pdf_list, axis=0, ignore_index=True, sort=False)\n",
    "stock_result_pdf = stock_pdf_list.sort_values(['除權交易日', '股票代號'])[['股票代號', '法說會日期', '地點', '擇要訊息']]\n"
   ]
  }
 ],
 "metadata": {
  "kernelspec": {
   "display_name": "Python 3",
   "language": "python",
   "name": "python3"
  },
  "language_info": {
   "codemirror_mode": {
    "name": "ipython",
    "version": 3
   },
   "file_extension": ".py",
   "mimetype": "text/x-python",
   "name": "python",
   "nbconvert_exporter": "python",
   "pygments_lexer": "ipython3",
   "version": "3.7.3"
  }
 },
 "nbformat": 4,
 "nbformat_minor": 2
}
