{
 "cells": [
  {
   "cell_type": "code",
   "execution_count": 9,
   "metadata": {},
   "outputs": [],
   "source": [
    "import os\n",
    "import talib\n",
    "import logging\n",
    "import pandas as pd\n",
    "from datetime import datetime\n",
    "\n",
    "logging.basicConfig(level=logging.INFO, format=\"%(asctime)s [%(levelname)s] %(message)s\")\n",
    "\n",
    "root_path = \"C:\\\\Users\\\\Fang\\\\PycharmProjects\\\\股票分析\\\\stock_data\\\\basic_data\"\n",
    "# root_path = \"C:\\\\Users\\\\Flora\\\\Documents\\\\股票分析\\\\stock_data\\\\basic_data\""
   ]
  },
  {
   "cell_type": "code",
   "execution_count": null,
   "metadata": {
    "scrolled": true
   },
   "outputs": [],
   "source": [
    "df_list = []\n",
    "start_dt = '2020-01-01'\n",
    "end_dt = '2020-07-10'\n",
    "bband_slope_change_criteria = 0.5\n",
    "bband_width_change_criteria = 0.25\n",
    "prev_bband_width_criteria = 5\n",
    "for file in os.listdir(root_path):\n",
    "    if '.csv' not in file:\n",
    "        continue\n",
    "    logging.info(file.replace('.csv', ''))\n",
    "    \n",
    "    # load stock price data\n",
    "    file_path = root_path + os.sep + file\n",
    "    try:\n",
    "        stock_df = pd.read_csv(file_path, index_col=None, header=0, dtype={'股票代號':str}, engine='python', encoding='utf-8').sort_values('日期')\n",
    "    except:\n",
    "        stock_df = pd.read_csv(file_path, index_col=None, header=0, dtype={'股票代號':str}, engine='python').sort_values('日期')\n",
    "    stock_df.loc[:, '日期'] = pd.to_datetime(stock_df['日期'].str.replace('＊', ''))\n",
    "    stock_df = stock_df[(stock_df['日期'] >= start_dt) & (stock_df['日期'] <= end_dt)]\n",
    "    if len(stock_df) < 60:\n",
    "        continue\n",
    "    stock_df = stock_df.sort_values('日期')\n",
    "    stock_df['收盤價'].fillna(method='ffill', inplace=True)\n",
    "    \n",
    "    # calculate BBands and some features\n",
    "    closed = stock_df['收盤價'].values\n",
    "    upper,middle,lower = talib.BBANDS(closed,20, 2, 2, matype=talib.MA_Type.SMA)\n",
    "    previous_upper = pd.Series(upper).shift(periods=1).to_numpy()\n",
    "    previous_lower = pd.Series(lower).shift(periods=1).to_numpy()\n",
    "    upper_change = pd.Series((upper - previous_upper) / previous_upper*100)\n",
    "    lower_change = (lower - previous_lower) / previous_lower*100\n",
    "    bband_width =  pd.Series((upper-lower) / middle*100)\n",
    "    bband_width_ma = pd.Series(talib.SMA(bband_width, 5))\n",
    "    \n",
    "    # add BBands data to stock price dataframe\n",
    "    stock_df = stock_df.reset_index().drop('index', axis=1)\n",
    "    stock_df['bband_width'] = bband_width\n",
    "    stock_df['prev_bband_width'] = stock_df['bband_width'].shift(periods=1)\n",
    "    stock_df['bband_slope'] = upper_change\n",
    "    stock_df['prev_bband_slope'] = stock_df['bband_slope'].shift(periods=1)\n",
    "    stock_df['bband_slope_change'] = abs(stock_df['bband_slope'] - stock_df['prev_bband_slope']) / (abs(stock_df['prev_bband_slope'] + 0.00000001))\n",
    "    stock_df['bband_width_change'] = (stock_df['bband_width'] - stock_df['prev_bband_width']) / (stock_df['prev_bband_width'] + 0.00000001)\n",
    "    \n",
    "    # filter data if meet the alert conditions\n",
    "    filtered_df = stock_df[(stock_df['bband_slope_change']>bband_slope_change_criteria) \n",
    "                           & (stock_df['bband_width_change']>bband_width_change_criteria) \n",
    "                           & (stock_df['prev_bband_width']<prev_bband_width_criteria)]\n",
    "    df_list.append(filtered_df)\n",
    "alert_df = pd.concat(df_list, axis=0, ignore_index=True, sort=False)"
   ]
  },
  {
   "cell_type": "code",
   "execution_count": null,
   "metadata": {},
   "outputs": [],
   "source": [
    "alert_df[alert_df['日期']>'2020-06-15'].sort_values('日期')"
   ]
  }
 ],
 "metadata": {
  "kernelspec": {
   "display_name": "Python 3",
   "language": "python",
   "name": "python3"
  },
  "language_info": {
   "codemirror_mode": {
    "name": "ipython",
    "version": 3
   },
   "file_extension": ".py",
   "mimetype": "text/x-python",
   "name": "python",
   "nbconvert_exporter": "python",
   "pygments_lexer": "ipython3",
   "version": "3.7.1"
  }
 },
 "nbformat": 4,
 "nbformat_minor": 2
}
