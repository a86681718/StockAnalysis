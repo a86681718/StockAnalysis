{
 "cells": [
  {
   "cell_type": "code",
   "execution_count": 2,
   "metadata": {},
   "outputs": [],
   "source": [
    "import os\n",
    "import pandas as pd"
   ]
  },
  {
   "cell_type": "code",
   "execution_count": null,
   "metadata": {},
   "outputs": [],
   "source": [
    "output_path = \"/Users/fang/stock_data/basic_data\"\n",
    "for file in os.listdir(output_path):\n",
    "    df = pd.read_csv(output_path + os.sep + file).drop_duplicates().sort_values('日期')\n",
    "    df.loc[:, '股票代號'] = df['股票代號'].apply(lambda x: str(x).zfill(4))\n",
    "    df.to_csv(output_path + os.sep + file, index=False)"
   ]
  },
  {
   "cell_type": "code",
   "execution_count": 14,
   "metadata": {},
   "outputs": [],
   "source": [
    "stock_dividend = pd.read_csv('stock_dividend.csv', dtype={'股票代號': str})\n",
    "stock_dividend['除權交易日'] = pd.to_datetime(stock_dividend['除權交易日'])\n",
    "stock_dividend['日期'] = stock_dividend['除權交易日']"
   ]
  },
  {
   "cell_type": "code",
   "execution_count": 25,
   "metadata": {},
   "outputs": [
    {
     "data": {
      "text/html": [
       "<div>\n",
       "<style scoped>\n",
       "    .dataframe tbody tr th:only-of-type {\n",
       "        vertical-align: middle;\n",
       "    }\n",
       "\n",
       "    .dataframe tbody tr th {\n",
       "        vertical-align: top;\n",
       "    }\n",
       "\n",
       "    .dataframe thead th {\n",
       "        text-align: right;\n",
       "    }\n",
       "</style>\n",
       "<table border=\"1\" class=\"dataframe\">\n",
       "  <thead>\n",
       "    <tr style=\"text-align: right;\">\n",
       "      <th></th>\n",
       "      <th>股票代號</th>\n",
       "      <th>除權交易日</th>\n",
       "      <th>權利分派日</th>\n",
       "      <th>股票股利盈餘</th>\n",
       "      <th>股票股利公積</th>\n",
       "    </tr>\n",
       "  </thead>\n",
       "  <tbody>\n",
       "    <tr>\n",
       "      <td>0</td>\n",
       "      <td>9962</td>\n",
       "      <td>2005/11/30</td>\n",
       "      <td>2005/12/06</td>\n",
       "      <td>2.700000</td>\n",
       "      <td>0.000000</td>\n",
       "    </tr>\n",
       "    <tr>\n",
       "      <td>1</td>\n",
       "      <td>9962</td>\n",
       "      <td>2007/07/10</td>\n",
       "      <td>2007/07/16</td>\n",
       "      <td>0.000000</td>\n",
       "      <td>0.000000</td>\n",
       "    </tr>\n",
       "    <tr>\n",
       "      <td>2</td>\n",
       "      <td>9962</td>\n",
       "      <td>2010/08/19</td>\n",
       "      <td>2010/08/27</td>\n",
       "      <td>0.700000</td>\n",
       "      <td>0.000000</td>\n",
       "    </tr>\n",
       "    <tr>\n",
       "      <td>3</td>\n",
       "      <td>9962</td>\n",
       "      <td>2011/07/12</td>\n",
       "      <td>2011/07/18</td>\n",
       "      <td>1.500000</td>\n",
       "      <td>0.000000</td>\n",
       "    </tr>\n",
       "    <tr>\n",
       "      <td>4</td>\n",
       "      <td>9960</td>\n",
       "      <td>2005/08/25</td>\n",
       "      <td>2005/09/01</td>\n",
       "      <td>2.000000</td>\n",
       "      <td>0.000000</td>\n",
       "    </tr>\n",
       "    <tr>\n",
       "      <td>...</td>\n",
       "      <td>...</td>\n",
       "      <td>...</td>\n",
       "      <td>...</td>\n",
       "      <td>...</td>\n",
       "      <td>...</td>\n",
       "    </tr>\n",
       "    <tr>\n",
       "      <td>6981</td>\n",
       "      <td>6441</td>\n",
       "      <td>2020/08/24</td>\n",
       "      <td>2020/08/30</td>\n",
       "      <td>0.345030</td>\n",
       "      <td>0.000000</td>\n",
       "    </tr>\n",
       "    <tr>\n",
       "      <td>6982</td>\n",
       "      <td>2748</td>\n",
       "      <td>2020/09/15</td>\n",
       "      <td>2020/09/21</td>\n",
       "      <td>1.500000</td>\n",
       "      <td>0.000000</td>\n",
       "    </tr>\n",
       "    <tr>\n",
       "      <td>6983</td>\n",
       "      <td>1586</td>\n",
       "      <td>2020/09/24</td>\n",
       "      <td>2020/09/30</td>\n",
       "      <td>0.489440</td>\n",
       "      <td>0.000000</td>\n",
       "    </tr>\n",
       "    <tr>\n",
       "      <td>6984</td>\n",
       "      <td>6409</td>\n",
       "      <td>2020/09/16</td>\n",
       "      <td>2020/09/22</td>\n",
       "      <td>0.500168</td>\n",
       "      <td>0.000000</td>\n",
       "    </tr>\n",
       "    <tr>\n",
       "      <td>6985</td>\n",
       "      <td>2065</td>\n",
       "      <td>2020/09/21</td>\n",
       "      <td>2020/09/27</td>\n",
       "      <td>0.932635</td>\n",
       "      <td>0.932635</td>\n",
       "    </tr>\n",
       "  </tbody>\n",
       "</table>\n",
       "<p>6986 rows × 5 columns</p>\n",
       "</div>"
      ],
      "text/plain": [
       "      股票代號       除權交易日       權利分派日    股票股利盈餘    股票股利公積\n",
       "0     9962  2005/11/30  2005/12/06  2.700000  0.000000\n",
       "1     9962  2007/07/10  2007/07/16  0.000000  0.000000\n",
       "2     9962  2010/08/19  2010/08/27  0.700000  0.000000\n",
       "3     9962  2011/07/12  2011/07/18  1.500000  0.000000\n",
       "4     9960  2005/08/25  2005/09/01  2.000000  0.000000\n",
       "...    ...         ...         ...       ...       ...\n",
       "6981  6441  2020/08/24  2020/08/30  0.345030  0.000000\n",
       "6982  2748  2020/09/15  2020/09/21  1.500000  0.000000\n",
       "6983  1586  2020/09/24  2020/09/30  0.489440  0.000000\n",
       "6984  6409  2020/09/16  2020/09/22  0.500168  0.000000\n",
       "6985  2065  2020/09/21  2020/09/27  0.932635  0.932635\n",
       "\n",
       "[6986 rows x 5 columns]"
      ]
     },
     "execution_count": 25,
     "metadata": {},
     "output_type": "execute_result"
    }
   ],
   "source": [
    "cash_dividend = pd.read_csv('cash_dividend.csv', dtype={'股票代號': str})\n",
    "cash_dividend['除息交易日'] = pd.to_datetime(cash_dividend['除息交易日'])\n",
    "cash_dividend['日期'] = cash_dividend['除息交易日']\n",
    "cash_dividend"
   ]
  },
  {
   "cell_type": "code",
   "execution_count": 15,
   "metadata": {},
   "outputs": [
    {
     "data": {
      "text/plain": [
       "0       9962\n",
       "1       9962\n",
       "2       9962\n",
       "3       9962\n",
       "4       9960\n",
       "        ... \n",
       "6981    6441\n",
       "6982    2748\n",
       "6983    1586\n",
       "6984    6409\n",
       "6985    2065\n",
       "Name: 股票代號, Length: 6986, dtype: object"
      ]
     },
     "execution_count": 15,
     "metadata": {},
     "output_type": "execute_result"
    }
   ],
   "source": [
    "df = pd.read_csv('/Users/fang/Downloads/1240.csv', dtype={'股票代號': str}).drop_duplicates().sort_values('日期')\n",
    "df['日期'] = pd.to_datetime(df['日期'])\n",
    "stock_dividend['股票代號']"
   ]
  },
  {
   "cell_type": "code",
   "execution_count": 21,
   "metadata": {},
   "outputs": [
    {
     "data": {
      "text/html": [
       "<div>\n",
       "<style scoped>\n",
       "    .dataframe tbody tr th:only-of-type {\n",
       "        vertical-align: middle;\n",
       "    }\n",
       "\n",
       "    .dataframe tbody tr th {\n",
       "        vertical-align: top;\n",
       "    }\n",
       "\n",
       "    .dataframe thead th {\n",
       "        text-align: right;\n",
       "    }\n",
       "</style>\n",
       "<table border=\"1\" class=\"dataframe\">\n",
       "  <thead>\n",
       "    <tr style=\"text-align: right;\">\n",
       "      <th></th>\n",
       "      <th>股票代號</th>\n",
       "      <th>日期</th>\n",
       "      <th>成交股數</th>\n",
       "      <th>成交金額</th>\n",
       "      <th>開盤價</th>\n",
       "      <th>最高價</th>\n",
       "      <th>最低價</th>\n",
       "      <th>收盤價</th>\n",
       "      <th>漲跌價差</th>\n",
       "      <th>漲跌幅</th>\n",
       "      <th>成交筆數</th>\n",
       "      <th>除權交易日</th>\n",
       "      <th>權利分派日</th>\n",
       "      <th>股票股利盈餘</th>\n",
       "      <th>股票股利公積</th>\n",
       "    </tr>\n",
       "  </thead>\n",
       "  <tbody>\n",
       "    <tr>\n",
       "      <td>157</td>\n",
       "      <td>1240</td>\n",
       "      <td>2020-08-27</td>\n",
       "      <td>121960.0</td>\n",
       "      <td>6852080.0</td>\n",
       "      <td>55.9</td>\n",
       "      <td>56.7</td>\n",
       "      <td>55.7</td>\n",
       "      <td>56.7</td>\n",
       "      <td>NaN</td>\n",
       "      <td>NaN</td>\n",
       "      <td>109.0</td>\n",
       "      <td>2020-08-27</td>\n",
       "      <td>2020/09/04</td>\n",
       "      <td>0.3</td>\n",
       "      <td>0.0</td>\n",
       "    </tr>\n",
       "  </tbody>\n",
       "</table>\n",
       "</div>"
      ],
      "text/plain": [
       "     股票代號         日期      成交股數       成交金額   開盤價   最高價   最低價   收盤價  漲跌價差  漲跌幅  \\\n",
       "157  1240 2020-08-27  121960.0  6852080.0  55.9  56.7  55.7  56.7   NaN  NaN   \n",
       "\n",
       "      成交筆數      除權交易日       權利分派日  股票股利盈餘  股票股利公積  \n",
       "157  109.0 2020-08-27  2020/09/04     0.3     0.0  "
      ]
     },
     "execution_count": 21,
     "metadata": {},
     "output_type": "execute_result"
    }
   ],
   "source": [
    "join = df.merge(stock_dividend, how='left', on=['股票代號', '日期'])\n",
    "join[~join['除權交易日'].isna()]"
   ]
  },
  {
   "cell_type": "code",
   "execution_count": null,
   "metadata": {},
   "outputs": [],
   "source": []
  }
 ],
 "metadata": {
  "kernelspec": {
   "display_name": "Python 3",
   "language": "python",
   "name": "python3"
  },
  "language_info": {
   "codemirror_mode": {
    "name": "ipython",
    "version": 3
   },
   "file_extension": ".py",
   "mimetype": "text/x-python",
   "name": "python",
   "nbconvert_exporter": "python",
   "pygments_lexer": "ipython3",
   "version": "3.7.3"
  }
 },
 "nbformat": 4,
 "nbformat_minor": 2
}
