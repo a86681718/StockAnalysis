{
 "cells": [
  {
   "cell_type": "code",
   "execution_count": null,
   "metadata": {},
   "outputs": [],
   "source": [
    "import os\n",
    "import pandas as pd"
   ]
  },
  {
   "cell_type": "code",
   "execution_count": null,
   "metadata": {},
   "outputs": [],
   "source": [
    "output_path = \"/Users/fang/stock_data/basic_data\"\n",
    "for file in os.listdir(output_path):\n",
    "    df = pd.read_csv(output_path + os.sep + file).drop_duplicates().sort_values('日期')\n",
    "    df.loc[:, '股票代號'] = df['股票代號'].apply(lambda x: str(x).zfill(4))\n",
    "    df.to_csv(output_path + os.sep + file, index=False)"
   ]
  }
 ],
 "metadata": {
  "kernelspec": {
   "display_name": "Python 3",
   "language": "python",
   "name": "python3"
  },
  "language_info": {
   "codemirror_mode": {
    "name": "ipython",
    "version": 3
   },
   "file_extension": ".py",
   "mimetype": "text/x-python",
   "name": "python",
   "nbconvert_exporter": "python",
   "pygments_lexer": "ipython3",
   "version": "3.7.3"
  }
 },
 "nbformat": 4,
 "nbformat_minor": 2
}
