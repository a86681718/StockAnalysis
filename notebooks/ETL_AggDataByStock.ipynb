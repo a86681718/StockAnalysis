{
 "cells": [
  {
   "cell_type": "code",
   "execution_count": 1,
   "metadata": {},
   "outputs": [
    {
     "ename": "NotADirectoryError",
     "evalue": "[WinError 267] 目錄名稱無效。: 'C:\\\\Users\\\\Fang\\\\Documents\\\\PycharmProjects\\\\BuySellReport\\\\bs_data\\\\agg\\\\0050.csv'",
     "output_type": "error",
     "traceback": [
      "\u001b[1;31m---------------------------------------------------------------------------\u001b[0m",
      "\u001b[1;31mNotADirectoryError\u001b[0m                        Traceback (most recent call last)",
      "\u001b[1;32m<ipython-input-1-9aefc745634c>\u001b[0m in \u001b[0;36m<module>\u001b[1;34m\u001b[0m\n\u001b[0;32m      8\u001b[0m     \u001b[1;32mfor\u001b[0m \u001b[0msub_folder\u001b[0m \u001b[1;32min\u001b[0m \u001b[0mos\u001b[0m\u001b[1;33m.\u001b[0m\u001b[0mlistdir\u001b[0m\u001b[1;33m(\u001b[0m\u001b[0mroot_path\u001b[0m \u001b[1;33m+\u001b[0m \u001b[0mos\u001b[0m\u001b[1;33m.\u001b[0m\u001b[0msep\u001b[0m \u001b[1;33m+\u001b[0m \u001b[1;34m\"bs_data\"\u001b[0m \u001b[1;33m+\u001b[0m \u001b[0mos\u001b[0m\u001b[1;33m.\u001b[0m\u001b[0msep\u001b[0m \u001b[1;33m+\u001b[0m \u001b[0mfolder\u001b[0m\u001b[1;33m)\u001b[0m\u001b[1;33m:\u001b[0m\u001b[1;33m\u001b[0m\u001b[1;33m\u001b[0m\u001b[0m\n\u001b[0;32m      9\u001b[0m         \u001b[1;32mif\u001b[0m \u001b[0msub_folder\u001b[0m\u001b[1;33m[\u001b[0m\u001b[1;36m0\u001b[0m\u001b[1;33m]\u001b[0m \u001b[1;33m==\u001b[0m \u001b[1;34m\".\"\u001b[0m\u001b[1;33m:\u001b[0m \u001b[1;32mcontinue\u001b[0m\u001b[1;33m\u001b[0m\u001b[1;33m\u001b[0m\u001b[0m\n\u001b[1;32m---> 10\u001b[1;33m         \u001b[1;32mfor\u001b[0m \u001b[0mfile\u001b[0m \u001b[1;32min\u001b[0m \u001b[0mos\u001b[0m\u001b[1;33m.\u001b[0m\u001b[0mlistdir\u001b[0m\u001b[1;33m(\u001b[0m\u001b[0mroot_path\u001b[0m \u001b[1;33m+\u001b[0m \u001b[0mos\u001b[0m\u001b[1;33m.\u001b[0m\u001b[0msep\u001b[0m \u001b[1;33m+\u001b[0m \u001b[1;34m\"bs_data\"\u001b[0m \u001b[1;33m+\u001b[0m \u001b[0mos\u001b[0m\u001b[1;33m.\u001b[0m\u001b[0msep\u001b[0m \u001b[1;33m+\u001b[0m \u001b[0mfolder\u001b[0m \u001b[1;33m+\u001b[0m \u001b[0mos\u001b[0m\u001b[1;33m.\u001b[0m\u001b[0msep\u001b[0m \u001b[1;33m+\u001b[0m \u001b[0msub_folder\u001b[0m\u001b[1;33m)\u001b[0m\u001b[1;33m:\u001b[0m\u001b[1;33m\u001b[0m\u001b[1;33m\u001b[0m\u001b[0m\n\u001b[0m\u001b[0;32m     11\u001b[0m             \u001b[1;32mif\u001b[0m \u001b[1;34m'.csv'\u001b[0m \u001b[1;32min\u001b[0m \u001b[0mfile\u001b[0m \u001b[1;32mand\u001b[0m \u001b[0mlen\u001b[0m\u001b[1;33m(\u001b[0m\u001b[0mfile\u001b[0m\u001b[1;33m)\u001b[0m\u001b[1;33m==\u001b[0m\u001b[1;36m8\u001b[0m\u001b[1;33m:\u001b[0m\u001b[1;33m\u001b[0m\u001b[1;33m\u001b[0m\u001b[0m\n\u001b[0;32m     12\u001b[0m                 \u001b[0mfile_set\u001b[0m\u001b[1;33m.\u001b[0m\u001b[0madd\u001b[0m\u001b[1;33m(\u001b[0m\u001b[0mfile\u001b[0m\u001b[1;33m)\u001b[0m\u001b[1;33m\u001b[0m\u001b[1;33m\u001b[0m\u001b[0m\n",
      "\u001b[1;31mNotADirectoryError\u001b[0m: [WinError 267] 目錄名稱無效。: 'C:\\\\Users\\\\Fang\\\\Documents\\\\PycharmProjects\\\\BuySellReport\\\\bs_data\\\\agg\\\\0050.csv'"
     ]
    }
   ],
   "source": [
    "import os\n",
    "import pandas as pd\n",
    "from datetime import datetime, timedelta\n",
    "\n",
    "file_set = set()\n",
    "root_path = \"C:\\\\Users\\\\Fang\\\\Documents\\\\PycharmProjects\\\\BuySellReport\"\n",
    "for folder in os.listdir(root_path + os.sep + \"bs_data\"):\n",
    "    for sub_folder in os.listdir(root_path + os.sep + \"bs_data\" + os.sep + folder):\n",
    "        if sub_folder[0] == \".\": continue\n",
    "        for file in os.listdir(root_path + os.sep + \"bs_data\" + os.sep + folder + os.sep + sub_folder):\n",
    "            if '.csv' in file and len(file)==8:\n",
    "                file_set.add(file)\n",
    "\n",
    "for file in file_set:\n",
    "    print(file)\n",
    "    current_dt = datetime.strptime('20191021', '%Y%m%d')\n",
    "    end_dt = datetime.strptime('20200630', '%Y%m%d')\n",
    "    pdf_list = []\n",
    "    while current_dt <= end_dt:\n",
    "        dt = current_dt.strftime('%Y%m%d')\n",
    "        tpexPath = root_path + os.sep + 'bs_data' + os.sep + dt + os.sep + 'tpex' + os.sep + file \n",
    "        twsePath = root_path + os.sep + 'bs_data' + os.sep + dt + os.sep + 'twse' + os.sep + file \n",
    "        if os.path.exists(tpexPath):\n",
    "            pdf = pd.read_csv(tpexPath, index_col=None, header=0, dtype={'股票代號':str}, engine='python', encoding='utf-8')\n",
    "            pdf_list.append(pdf)\n",
    "        if os.path.exists(twsePath):\n",
    "            pdf = pd.read_csv(twsePath)\n",
    "            pdf_list.append(pdf)\n",
    "    \n",
    "        current_dt = current_dt + timedelta(days=1)\n",
    "    pd.concat(pdf_list, axis=0, ignore_index=True, sort=False).sort_values('日期').to_csv(\"C:\\\\Users\\\\Fang\\\\Documents\\\\PycharmProjects\\\\BuySellReport\" + os.sep + file, index=False, encoding='utf8') "
   ]
  },
  {
   "cell_type": "code",
   "execution_count": null,
   "metadata": {},
   "outputs": [],
   "source": []
  }
 ],
 "metadata": {
  "kernelspec": {
   "display_name": "Python 3",
   "language": "python",
   "name": "python3"
  },
  "language_info": {
   "codemirror_mode": {
    "name": "ipython",
    "version": 3
   },
   "file_extension": ".py",
   "mimetype": "text/x-python",
   "name": "python",
   "nbconvert_exporter": "python",
   "pygments_lexer": "ipython3",
   "version": "3.7.1"
  }
 },
 "nbformat": 4,
 "nbformat_minor": 2
}
