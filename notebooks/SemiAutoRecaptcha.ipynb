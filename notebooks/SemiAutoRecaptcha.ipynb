{
 "cells": [
  {
   "cell_type": "code",
   "execution_count": 6,
   "metadata": {},
   "outputs": [],
   "source": []
  },
  {
   "cell_type": "code",
   "execution_count": 2,
   "metadata": {},
   "outputs": [],
   "source": [
    "import pyautogui\n",
    "from time import sleep\n",
    "def search():\n",
    "    pyautogui.click(610, 410)\n",
    "    pyautogui.typewrite('1240')\n",
    "    pyautogui.click(690, 410)\n",
    "    sleep(0.5)\n",
    "    pyautogui.screenshot('test.png')\n",
    "\n",
    "def refresh():\n",
    "    pyautogui.hotkey('f5')\n",
    "    sleep(3)\n",
    "    pyautogui.click(410, 447)\n",
    "    sleep(1)\n",
    "    pyautogui.screenshot('test.png')\n",
    "\n",
    "def verify():\n",
    "    pyautogui.click(648, 674)\n",
    "    sleep(0.5)\n",
    "    pyautogui.screenshot('test.png')\n",
    "    \n",
    "def c9(*x):\n",
    "    nine = [(377,308), (507,308), (637, 308),\n",
    "            (377,440), (507,440), (637, 440),\n",
    "            (377,570), (507,570), (637, 570)]\n",
    "    for i in x:\n",
    "        pyautogui.click(*nine[i-1])\n",
    "        sleep(1)\n",
    "    pyautogui.screenshot('test.png')\n",
    "    \n",
    "def c12(*x):\n",
    "    twelve = [(355,295), (455, 295), (555, 295), (655,295),\n",
    "              (355,395), (455, 395), (555, 395), (655,395),\n",
    "              (355,495), (455, 495), (555, 495), (655,495),\n",
    "              (355,595), (455, 595), (555, 595), (655,595)]\n",
    "    for i in x:\n",
    "        pyautogui.click(*twelve[i-1])\n",
    "        sleep(1)\n",
    "    pyautogui.screenshot('test.png')"
   ]
  },
  {
   "cell_type": "code",
   "execution_count": 3,
   "metadata": {},
   "outputs": [],
   "source": [
    "nine = [(377,308), (507,308), (637, 308),\n",
    "        (377,440), (507,440), (637, 440),\n",
    "        (377,570), (507,570), (637, 570)]"
   ]
  },
  {
   "cell_type": "code",
   "execution_count": 9,
   "metadata": {},
   "outputs": [],
   "source": [
    "    pyautogui.click(610, 410)\n",
    "    pyautogui.typewrite('1240')\n",
    "    pyautogui.click(690, 410)\n"
   ]
  },
  {
   "cell_type": "code",
   "execution_count": 14,
   "metadata": {},
   "outputs": [],
   "source": [
    "/userap/BuySellReport/test.png"
   ]
  },
  {
   "cell_type": "code",
   "execution_count": 15,
   "metadata": {},
   "outputs": [],
   "source": [
    "sleep(2)\n",
    "c9(1,2,5,8)"
   ]
  },
  {
   "cell_type": "code",
   "execution_count": null,
   "metadata": {},
   "outputs": [],
   "source": []
  }
 ],
 "metadata": {
  "kernelspec": {
   "display_name": "Python 3",
   "language": "python",
   "name": "python3"
  },
  "language_info": {
   "codemirror_mode": {
    "name": "ipython",
    "version": 3
   },
   "file_extension": ".py",
   "mimetype": "text/x-python",
   "name": "python",
   "nbconvert_exporter": "python",
   "pygments_lexer": "ipython3",
   "version": "3.7.3"
  }
 },
 "nbformat": 4,
 "nbformat_minor": 2
}
