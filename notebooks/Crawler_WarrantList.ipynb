{
 "cells": [
  {
   "cell_type": "code",
   "execution_count": null,
   "metadata": {},
   "outputs": [],
   "source": [
    "import requests\n",
    "import pandas as pd\n",
    "from bs4 import BeautifulSoup"
   ]
  },
  {
   "cell_type": "code",
   "execution_count": null,
   "metadata": {},
   "outputs": [],
   "source": [
    "session = requests.session()\n",
    "url = 'https://mops.twse.com.tw/mops/web/ajax_t90sbfa01'\n",
    "header = {\"Content-Type\": \"application/x-www-form-urlencoded\"}\n",
    "warrantInfoList = []\n",
    "for marketType in [\"1\", \"2\"]:\n",
    "    data = {\"encodeURIComponent\":\"1\",\n",
    "        \"step\":\"1\",\n",
    "        \"ver\":\"1.9\",\n",
    "        \"TYPEK\":\"\",\n",
    "        \"market\": marketType,\n",
    "        \"wrn_class\":\"all\",\n",
    "        \"wrn_no\":\"\",\n",
    "        \"co_id\":\"all\",\n",
    "        \"wrn_type\":\"all\",\n",
    "        \"left_month\":\"all\",\n",
    "        \"return_rate\":\"all\",\n",
    "        \"price_down\":\"\",\n",
    "        \"price_up\":\"\",\n",
    "        \"price_inout\":\"all\",\n",
    "        \"newprice_down\":\"\",\n",
    "        \"newprice_up\":\"\",\n",
    "        \"fin_down\":\"\",\n",
    "        \"fin_up\":\"\",\n",
    "        \"sort\":\"1\",\n",
    "        \"stock_no\": \"\"}\n",
    "    resp = session.post(url, data=data)\n",
    "    soup = BeautifulSoup(resp.text, 'html.parser')\n",
    "    table = soup.find_all('table')[1]\n",
    "    rows = [row for row in table.find_all('tr') if row.attrs['class'] != ['tblHead']]\n",
    "    for row in rows:\n",
    "        cells = row.find_all('td')\n",
    "        data = {}\n",
    "        data['權證代號'] = cells[0].text\n",
    "        data['權證名稱'] = cells[1].text\n",
    "        data['履約形式'] = cells[2].text\n",
    "        data['認購認售'] = cells[3].text\n",
    "        data['發行人'] = cells[4].text\n",
    "        data['上市日期'] = cells[7].text\n",
    "        data['最後交易日'] = cells[8].text\n",
    "        data['到期日'] = cells[9].text\n",
    "        data['股票代號'] = cells[12].text\n",
    "        data['股票名稱'] = cells[13].text\n",
    "        data['價內外'] = cells[19].text\n",
    "        warrantInfoList.append(data)\n",
    "warrantDf = pd.DataFrame(warrantInfoList).sort_values(['標的代號', '權證代號'])\n",
    "warrantDf.sort_values('股票代號').to_csv('warrantList.csv', index=False)"
   ]
  }
 ],
 "metadata": {
  "kernelspec": {
   "display_name": "Python 3",
   "language": "python",
   "name": "python3"
  },
  "language_info": {
   "codemirror_mode": {
    "name": "ipython",
    "version": 3
   },
   "file_extension": ".py",
   "mimetype": "text/x-python",
   "name": "python",
   "nbconvert_exporter": "python",
   "pygments_lexer": "ipython3",
   "version": "3.7.3"
  }
 },
 "nbformat": 4,
 "nbformat_minor": 2
}
