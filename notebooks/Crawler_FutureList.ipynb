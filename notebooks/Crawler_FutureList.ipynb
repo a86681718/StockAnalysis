{
 "cells": [
  {
   "cell_type": "code",
   "execution_count": 27,
   "metadata": {},
   "outputs": [],
   "source": [
    "import requests\n",
    "import pandas as pd\n",
    "from bs4 import BeautifulSoup"
   ]
  },
  {
   "cell_type": "code",
   "execution_count": 28,
   "metadata": {},
   "outputs": [],
   "source": [
    "session = requests.session()\n",
    "url = 'https://www.taifex.com.tw/cht/2/stockLists'\n",
    "resp = session.get(url)\n",
    "soup = BeautifulSoup(resp.text, 'html.parser')\n",
    "table = soup.find_all('table')[1]\n",
    "rows = table.find_all('tr')\n",
    "futureInfoList = []\n",
    "for row in rows:\n",
    "    cells = row.find_all('td')\n",
    "    if len(cells) == 0 or cells[0].text == \"\":\n",
    "        continue\n",
    "    data = {}\n",
    "    data['商品代號'] = cells[0].text\n",
    "    data['股票代號'] = cells[2].text\n",
    "    data['股票名稱'] = cells[3].text\n",
    "    data['期貨'] = cells[4].text.replace('\\r', '').replace('\\n', '').replace('\\t', '')\n",
    "    data['選擇權'] = cells[5].text.replace('\\r', '').replace('\\n', '').replace('\\t', '')\n",
    "    futureInfoList.append(data)\n",
    "futureDf = pd.DataFrame(futureInfoList)\n",
    "futureDf.sort_values('股票代號').to_csv('futureList.csv', index=False)"
   ]
  }
 ],
 "metadata": {
  "kernelspec": {
   "display_name": "Python 3",
   "language": "python",
   "name": "python3"
  },
  "language_info": {
   "codemirror_mode": {
    "name": "ipython",
    "version": 3
   },
   "file_extension": ".py",
   "mimetype": "text/x-python",
   "name": "python",
   "nbconvert_exporter": "python",
   "pygments_lexer": "ipython3",
   "version": "3.7.3"
  }
 },
 "nbformat": 4,
 "nbformat_minor": 2
}
