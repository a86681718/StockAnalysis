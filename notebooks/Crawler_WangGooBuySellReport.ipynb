{
 "cells": [
  {
   "cell_type": "code",
   "execution_count": null,
   "metadata": {},
   "outputs": [],
   "source": [
    "import requests"
   ]
  },
  {
   "cell_type": "code",
   "execution_count": null,
   "metadata": {},
   "outputs": [],
   "source": [
    "## Maybe this can be skipped\n",
    "# headers = {'cache-control': 'max-age=0',\n",
    "# 'cookie': 'cf_clearance=1ad6c8c9e6ea0a92c806f1bbd2f42e33f7a635d3-1595653231-0-1ze003c6ddz6773e05bz395d08a4-150; __cfduid=dfb3adc76a30bad44d7759d00ff9539701595653231; BID=D5F90AAF-C8A4-4F32-B08C-AACD717A35F5; BrowserMode=Web; _smt_uid=5f1bbc72.67bd132; _fbp=fb.1.1595653234270.1134309558; _ga=GA1.2.219133711.1595653234; _gid=GA1.2.2016979531.1595653234; _gat_gtag_UA_6993262_2=1; __gads=ID=c5a44aab544ee36a-22c18adcadc200ec:T=1595653234:S=ALNI_MZLusnLtV6JJMPedLt5Mltc8vfPoQ; _hjid=b8df3f65-3d91-45c6-96d2-99aa2aedb984; wcsid=KDssbohxftytQy9Q3h7B70Hb4tAGoFr6; hblid=MTeSdeKYaRdQs53r3h7B70HtAB4FLAGa; _oklv=1595653235385%2CKDssbohxftytQy9Q3h7B70Hb4tAGoFr6; _okdetect=%7B%22token%22%3A%2215956532358770%22%2C%22proto%22%3A%22https%3A%22%2C%22host%22%3A%22www.wantgoo.com%22%7D',\n",
    "# 'sec-fetch-dest': 'document',\n",
    "# 'sec-fetch-mode': 'navigate',\n",
    "# 'sec-fetch-site': 'none',\n",
    "# 'sec-fetch-user': '?1',\n",
    "# 'upgrade-insecure-requests': '1',\n",
    "# 'user-agent': 'Mozilla/5.0 (Macintosh; Intel Mac OS X 10_15_5) AppleWebKit/537.36 (KHTML, like Gecko) Chrome/83.0.4103.116 Safari/537.36',\n",
    "# 'Content-Type':'application/json;charset=UTF-8'}\n",
    "# session = requests.Session()\n",
    "# resp = session.get(\"https://www.wantgoo.com/stock/twstock/class?id=2\", headers=headers)"
   ]
  },
  {
   "cell_type": "code",
   "execution_count": null,
   "metadata": {},
   "outputs": [],
   "source": [
    "session = requests.Session()\n",
    "headers = {'cache-control': 'max-age=0',\n",
    "'cookie': 'cf_clearance=1ad6c8c9e6ea0a92c806f1bbd2f42e33f7a635d3-1595653231-0-1ze003c6ddz6773e05bz395d08a4-150; __cfduid=dfb3adc76a30bad44d7759d00ff9539701595653231; BID=D5F90AAF-C8A4-4F32-B08C-AACD717A35F5; BrowserMode=Web; _smt_uid=5f1bbc72.67bd132; _fbp=fb.1.1595653234270.1134309558; _ga=GA1.2.219133711.1595653234; _gid=GA1.2.2016979531.1595653234; _gat_gtag_UA_6993262_2=1; __gads=ID=c5a44aab544ee36a-22c18adcadc200ec:T=1595653234:S=ALNI_MZLusnLtV6JJMPedLt5Mltc8vfPoQ; _hjid=b8df3f65-3d91-45c6-96d2-99aa2aedb984; wcsid=KDssbohxftytQy9Q3h7B70Hb4tAGoFr6; hblid=MTeSdeKYaRdQs53r3h7B70HtAB4FLAGa; _oklv=1595653235385%2CKDssbohxftytQy9Q3h7B70Hb4tAGoFr6; _okdetect=%7B%22token%22%3A%2215956532358770%22%2C%22proto%22%3A%22https%3A%22%2C%22host%22%3A%22www.wantgoo.com%22%7D',\n",
    "'sec-fetch-dest': 'empty',\n",
    "'sec-fetch-mode': 'cors',\n",
    "'sec-fetch-site': 'same-origin',\n",
    "'upgrade-insecure-requests': '1',\n",
    "'user-agent': 'Mozilla/5.0 (Macintosh; Intel Mac OS X 10_15_5) AppleWebKit/537.36 (KHTML, like Gecko) Chrome/83.0.4103.116 Safari/537.36',\n",
    "'x-requested-with':'XMLHttpRequest'}\n",
    "payload = {'types':'8', \n",
    "           'stockno': 2330, \n",
    "           'brokerid':9800,\n",
    "           'dtStart': '20200724',\n",
    "           'dtEnd': '20200724'}\n",
    "r = session.post('https://www.wantgoo.com/stock/adl/agentsataapi', headers=headers, data=payload)\n",
    "r.text"
   ]
  }
 ],
 "metadata": {
  "kernelspec": {
   "display_name": "Python 3",
   "language": "python",
   "name": "python3"
  },
  "language_info": {
   "codemirror_mode": {
    "name": "ipython",
    "version": 3
   },
   "file_extension": ".py",
   "mimetype": "text/x-python",
   "name": "python",
   "nbconvert_exporter": "python",
   "pygments_lexer": "ipython3",
   "version": "3.7.3"
  }
 },
 "nbformat": 4,
 "nbformat_minor": 2
}
