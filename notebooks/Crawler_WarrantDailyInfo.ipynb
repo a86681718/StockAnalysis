{
 "cells": [
  {
   "cell_type": "code",
   "execution_count": null,
   "metadata": {},
   "outputs": [],
   "source": [
    "from datetime import datetime\n",
    "import pandas as pd\n",
    "import requests\n",
    "import logging\n",
    "import sys"
   ]
  },
  {
   "cell_type": "code",
   "execution_count": null,
   "metadata": {},
   "outputs": [],
   "source": [
    "formatter = logging.Formatter(\"%(asctime)s [%(levelname)s] %(message)s\")\n",
    "handler = logging.StreamHandler(sys.stdout)\n",
    "handler.setLevel(logging.INFO)\n",
    "handler.setFormatter(formatter)\n",
    "logger = logging.getLogger()\n",
    "logger.handlers.clear()\n",
    "logger.setLevel(logging.INFO)\n",
    "logger.addHandler(handler)\n",
    "\n",
    "# download warrant info from 群益權民最大網\n",
    "date = datetime.now().strftime('%Y-%m-%d')\n",
    "url = f'https://iwarrant.capital.com.tw/wdataV2/canonical/capital-newvol/%E6%AC%8A%E8%AD%89%E9%81%94%E4%BA%BA%E5%AF%B6%E5%85%B8_NEWVOL_{date}.xls'\n",
    "logger.info(url)\n",
    "outputPath = ''\n",
    "fileName = f'warrant_raw_{date}'\n",
    "extension = '.xls'\n",
    "# try:\n",
    "resp = requests.get(url)\n",
    "if resp.status_code == 200:\n",
    "    # except requests.exceptions.HTTPError as e:\n",
    "    #     raise SystemExit(e)\n",
    "\n",
    "\n",
    "    with requests.get(url, stream=True) as r:\n",
    "        r.raise_for_status()\n",
    "        with open(outputPath + fileName + extension, 'wb') as f:\n",
    "            for chunk in r.iter_content(chunk_size=8192): \n",
    "                f.write(chunk)\n",
    "\n",
    "    # extract information to new CSV file\n",
    "    pdf = pd.read_excel(outputPath + fileName + extension, sheet_name='summary', skiprows=4)\n",
    "    colNames = [\"權證代碼\", \"權證名稱\", \"發行券商\", \"權證價格\", \"權證漲跌\", \"權證漲跌幅\", \"權證成交量\", \"權證買價\", \"權證賣價\", \"權證買賣價差\", \"溢價比率\", \"價內價外\", \"理論價格\", \"隱含波動率\", \"有效槓桿\", \"剩餘天數\", \"最新行使比例\", \"標的代碼\", \"標的名稱\", \"標的價格\", \"標的漲跌\", \"標的漲跌幅\", \"最新履約價\", \"最新界限價\", \"標的20日波動率\", \"標的60日波動率\", \"標的120日波動率\", \"權證DELTA\", \"權證GAMMA\", \"權證VEGA\", \"權證THETA\", \"內含價值\", \"時間價值\", \"流通在外估計張數\", \"流通在外增減張數\", \"上市日期\", \"到期日期\", \"最新發行量\", \"權證發行價\", \"認購認售\"]\n",
    "    pdf.columns = colNames\n",
    "    extension = '.csv'\n",
    "    pdf.to_csv(outputPath + fileName.replace('_raw', '') + extension, index=False)\n",
    "else:\n",
    "    logger.error('status code:' + str(resp.status_code))"
   ]
  }
 ],
 "metadata": {
  "kernelspec": {
   "display_name": "Python 3",
   "language": "python",
   "name": "python3"
  },
  "language_info": {
   "codemirror_mode": {
    "name": "ipython",
    "version": 3
   },
   "file_extension": ".py",
   "mimetype": "text/x-python",
   "name": "python",
   "nbconvert_exporter": "python",
   "pygments_lexer": "ipython3",
   "version": "3.7.3"
  }
 },
 "nbformat": 4,
 "nbformat_minor": 2
}
