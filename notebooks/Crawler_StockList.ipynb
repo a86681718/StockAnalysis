{
 "cells": [
  {
   "cell_type": "code",
   "execution_count": 2,
   "metadata": {},
   "outputs": [],
   "source": [
    "import os\n",
    "import pandas as pd\n",
    "\n",
    "def getStockList(url):\n",
    "    df = pd.read_html(url,encoding='big5hkscs',header=0)[0]\n",
    "    stock_list = []\n",
    "    warrant_list = []\n",
    "    stock_flag = False\n",
    "    except_str = ['C', 'B', 'X', 'Y']\n",
    "    for row in df.iterrows():\n",
    "        stock_no = row[1]['有價證券代號及名稱'].split('\\u3000')[0]\n",
    "\n",
    "        if stock_no == '股票':\n",
    "            stock_flag = True\n",
    "            continue\n",
    "        elif stock_no == '上市認購(售)權證':\n",
    "            stock_flag = False\n",
    "            continue\n",
    "        elif stock_no == 'ETN':\n",
    "            break\n",
    "\n",
    "        if stock_flag:\n",
    "            stock_list.append(stock_no[:4])\n",
    "        else:\n",
    "            if any(x in stock_no for x in except_str):\n",
    "                pass\n",
    "            else:\n",
    "                warrant_list.append(stock_no[:6])\n",
    "    return sorted(stock_list) + sorted(warrant_list)\n",
    "\n",
    "def splitSpace(s):\n",
    "    if '\\u3000' in  s:\n",
    "        return s.split('\\u3000')\n",
    "    elif '\\u0020' in s:\n",
    "        return s.split('\\u0020')\n",
    "    else:\n",
    "        return None\n",
    "    \n",
    "twse_page = 'http://isin.twse.com.tw/isin/C_public.jsp?strMode=2'\n",
    "otc_page = 'https://isin.twse.com.tw/isin/C_public.jsp?strMode=4'\n",
    "\n",
    "twse_df = pd.read_html(twse_page, encoding='big5hkscs',header=0)[0]\n",
    "startIndex = twse_df.index[twse_df['有價證券代號及名稱']=='股票'][0] + 1\n",
    "endIndex = twse_df.index[twse_df['有價證券代號及名稱']=='上市認購(售)權證'][0]\n",
    "twse_df = twse_df.iloc[startIndex:endIndex]\n",
    "\n",
    "tpex_df = pd.read_html(otc_page, encoding='big5hkscs',header=0)[0]\n",
    "startIndex = tpex_df.index[tpex_df['有價證券代號及名稱']=='股票'][0] + 1\n",
    "endIndex = tpex_df.index[tpex_df['有價證券代號及名稱']=='特別股'][0]\n",
    "tpex_df = tpex_df.iloc[startIndex:endIndex]\n",
    "\n",
    "outputPath = '../data'\n",
    "df = twse_df.append(tpex_df, ignore_index=True)\n",
    "df['股票代號'] = df['有價證券代號及名稱'].map(lambda x: splitSpace(x)[0])\n",
    "df['股票名稱'] = df['有價證券代號及名稱'].map(lambda x: splitSpace(x)[1])\n",
    "df[['股票代號', '股票名稱', '上市日', '市場別', '產業別']].sort_values(['股票代號']).to_csv(outputPath + os.sep + 'stockList.csv', index=False)"
   ]
  },
  {
   "cell_type": "code",
   "execution_count": null,
   "metadata": {},
   "outputs": [],
   "source": []
  }
 ],
 "metadata": {
  "kernelspec": {
   "display_name": "Python 3",
   "language": "python",
   "name": "python3"
  },
  "language_info": {
   "codemirror_mode": {
    "name": "ipython",
    "version": 3
   },
   "file_extension": ".py",
   "mimetype": "text/x-python",
   "name": "python",
   "nbconvert_exporter": "python",
   "pygments_lexer": "ipython3",
   "version": "3.7.3"
  }
 },
 "nbformat": 4,
 "nbformat_minor": 2
}
