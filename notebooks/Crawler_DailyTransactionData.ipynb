{
 "cells": [
  {
   "cell_type": "code",
   "execution_count": 2,
   "metadata": {},
   "outputs": [],
   "source": [
    "import os \n",
    "import json\n",
    "import requests\n",
    "import pandas as pd\n",
    "from io import StringIO\n",
    "from time import sleep\n",
    "from random import randint\n",
    "from datetime import datetime, timedelta"
   ]
  },
  {
   "cell_type": "code",
   "execution_count": 8,
   "metadata": {},
   "outputs": [
    {
     "name": "stdout",
     "output_type": "stream",
     "text": [
      "2020/07/15\n"
     ]
    }
   ],
   "source": [
    "def toNumeric(x):\n",
    "    try:\n",
    "        return float(str(x).replace(',', ''))\n",
    "    except:\n",
    "        return -1\n",
    "    \n",
    "def strToFloat(pdf, num_cols):\n",
    "    tmp = pdf.copy()\n",
    "    for col in num_cols:\n",
    "        tmp.loc[:, col] = tmp[col].apply(toNumeric)\n",
    "    return tmp\n",
    "\n",
    "def toRocYear(date_str, sep='/'):\n",
    "    YEAR_OFFSET = 1911\n",
    "    split = date_str.split(sep)\n",
    "    ori_year = split[0]\n",
    "    new_year = str(int(ori_year) - YEAR_OFFSET)\n",
    "    new_date_str = date_str.replace(ori_year, new_year)\n",
    "    return new_date_str\n",
    "\n",
    "start_dt = '2020/07/15'\n",
    "end_dt = '2020/07/15'\n",
    "output_path = \"/Users/fang/stock_data/basic_data\"\n",
    "# output_path = \"C:\\\\Users\\\\Fang\\\\PycharmProjects\\\\股票分析\\\\stock_data\\\\basic_data\"\n",
    "# output_path = \"C:\\\\Users\\\\Flora\\\\Documents\\\\股票分析\\\\stock_data\\\\basic_data\"\n",
    "\n",
    "if not os.path.exists(output_path):\n",
    "    os.makedirs(output_path, exist_ok=True)\n",
    "\n",
    "dt = datetime.strptime(start_dt, '%Y/%m/%d')\n",
    "end_dt = datetime.strptime(end_dt, '%Y/%m/%d')\n",
    "\n",
    "tpex_url = 'https://www.tpex.org.tw/web/stock/aftertrading/daily_close_quotes/stk_quote_result.php?l=zh-tw&d=%s'\n",
    "twse_url = 'https://www.twse.com.tw/exchangeReport/MI_INDEX?response=csv&date=%s&type=ALL'\n",
    "tpex_header = ['股票代號', '名稱', '收盤價', '漲跌價差', '開盤價', '最高價', '最低價', '均價', '成交股數', '成交金額', \n",
    "               '成交筆數', '最後買價', '最後買量', '最後賣價', '最後賣量', '發行股數', '次日參考價', '次日漲停價', '次日跌停價']\n",
    "header_list = ['股票代號', '成交股數', '成交金額', '開盤價', '最高價', '最低價', '收盤價', '漲跌價差', '成交筆數']\n",
    "header_str = '股票代號,日期,成交股數,成交金額,開盤價,最高價,最低價,收盤價,漲跌價差,漲跌幅,成交筆數\\n'\n",
    "while dt <= end_dt:\n",
    "    if dt.weekday() in range(0, 5):\n",
    "        print(dt.strftime('%Y/%m/%d'))\n",
    "        \n",
    "        roc_dt = toRocYear(dt.strftime('%Y/%m/%d'))\n",
    "        tpex_resp = requests.get(tpex_url % roc_dt)\n",
    "        json_obj = json.loads(tpex_resp.text)\n",
    "        aaData = json_obj['aaData']\n",
    "        tpex_pdf = pd.DataFrame(aaData, columns=tpex_header)\n",
    "        tpex_pdf = tpex_pdf[tpex_pdf['股票代號'].str.len() == 4]\n",
    "        tpex_pdf = tpex_pdf[header_list]\n",
    "        \n",
    "        twse_resp = requests.get(twse_url % dt.strftime('%Y%m%d'))\n",
    "        if twse_resp.text != '':\n",
    "            twse_pdf = pd.read_csv(StringIO(twse_resp.text.replace(\"=\", \"\")), header=[\"證券代號\" in l for l in twse_resp.text.split(\"\\n\")].index(True)-1)\n",
    "            twse_pdf = twse_pdf[twse_pdf['證券代號'].str.len() == 4]\n",
    "            twse_pdf['漲跌(+/-)'] = twse_pdf['漲跌(+/-)'].map(lambda x: 1 if x=='+' else -1)\n",
    "            twse_pdf['漲跌價差'] = twse_pdf['漲跌價差']*twse_pdf['漲跌(+/-)']\n",
    "            twse_pdf = twse_pdf.rename(columns={'證券代號':'股票代號', '證券名稱':'名稱'})\n",
    "            twse_pdf = twse_pdf[header_list]\n",
    "        else:\n",
    "            dt = dt + timedelta(days=1)\n",
    "            sleep(randint(3, 5))\n",
    "            continue\n",
    "        \n",
    "        pdf = tpex_pdf.append(twse_pdf)\n",
    "        pdf = strToFloat(pdf, ['收盤價', '開盤價', '漲跌價差', '最高價', '最低價', '成交股數', '成交金額', '成交筆數'])\n",
    "        pdf['前日收盤價'] = pdf['收盤價']-pdf['漲跌價差']\n",
    "        pdf['漲跌幅'] = pdf['漲跌價差']/pdf['前日收盤價']*100\n",
    "        pdf = pdf.round(2)\n",
    "\n",
    "        for row in pdf.iterrows():\n",
    "            data = row[1]\n",
    "            stock_no = data['股票代號']\n",
    "            volume = data['成交股數']\n",
    "            transaction = data['成交筆數']\n",
    "            turnover = data['成交金額']\n",
    "            close_price = data['收盤價']\n",
    "            open_price = data['開盤價']\n",
    "            high_price = data['最高價']\n",
    "            low_price = data['最低價']\n",
    "            change_price = data['漲跌價差']\n",
    "            change_ratio = data['漲跌幅']\n",
    "            row = \"{},{},{},{},{},{},{},{},{},{},{}\\n\".format(stock_no, dt.strftime('%Y-%m-%d'), volume, turnover, \n",
    "                                                   open_price, high_price, low_price, close_price,\n",
    "                                                   change_price, change_ratio, transaction)\n",
    "            file_path = output_path + os.sep + stock_no + '.csv'\n",
    "            \n",
    "            if os.path.exists(file_path):\n",
    "                file = open(file_path, 'a')\n",
    "                file.write(row)\n",
    "            else:\n",
    "                file = open(file_path, 'w')\n",
    "                file.write(header_str)\n",
    "                file.write(row)\n",
    "            file.close()\n",
    "    dt = dt + timedelta(days=1)\n",
    "    sleep(randint(1, 4))"
   ]
  },
  {
   "cell_type": "code",
   "execution_count": 24,
   "metadata": {},
   "outputs": [],
   "source": [
    "headers = {'User-Agent':'Mozilla/5.0 (Macintosh; Intel Mac OS X 10_15_5) AppleWebKit/537.36 (KHTML, like Gecko) Chrome/83.0.4103.116 Safari/537.36'}\n"
   ]
  },
  {
   "cell_type": "code",
   "execution_count": 99,
   "metadata": {},
   "outputs": [],
   "source": [
    "headers = {'cache-control': 'max-age=0',\n",
    "'cookie': 'cf_clearance=4122fca9d7c55c6e33e15c0492a35c9a35f89da1-1594739376-0-1z973bc509z1a52a93azfd7ef126-150; __cfduid=db357d501a43b15bb9a4bb0a706eaf5ab1594739376; BID=B52353EA-C16A-4C79-B437-72B44A106599; 085F0A94-2C8A-4817-82E9-74152948EEB5=1; static-085F0A94-2C8A-4817-82E9-74152948EEB5=1; BrowserMode=Web; hblid=VvDZ4gUxDPHMiCXC3h7B70H6tFBVaoAL; _smt_uid=5f0dcab4.2c2b83f0; _fbp=fb.1.1594739380295.1099859670; _hjid=497f3ece-97a4-4393-82b2-fd2797da6ef6; _okdetect=%7B%22token%22%3A%2215947393806860%22%2C%22proto%22%3A%22https%3A%22%2C%22host%22%3A%22www.wantgoo.com%22%7D; _ga=GA1.2.366745891.1594739381; _gid=GA1.2.738501783.1594739381; olfsk=olfsk13041462922606728; _ok=8391-691-10-7433; wcsid=O0RXxgFJr9WdlG1W3h7B70H6oAGLBrb4; _hjAbsoluteSessionInProgress=1; _okbk=cd4%3Dtrue%2Cvi5%3D0%2Cvi4%3D1594816051136%2Cvi3%3Dactive%2Cvi2%3Dfalse%2Cvi1%3Dfalse%2Ccd8%3Dchat%2Ccd6%3D0%2Ccd5%3Daway%2Ccd3%3Dfalse%2Ccd2%3D0%2Ccd1%3D0%2C; __gads=ID=22b22356bd6664bf:T=1594816095:S=ALNI_MZs6U8VIrqVrC_TuK24TaaS4ucyjA; _gat_gtag_UA_6993262_2=1; _oklv=1594816523332%2CO0RXxgFJr9WdlG1W3h7B70H6oAGLBrb4',\n",
    "'sec-fetch-dest': 'document',\n",
    "'sec-fetch-mode': 'navigate',\n",
    "'sec-fetch-site': 'none',\n",
    "'sec-fetch-user': '?1',\n",
    "'upgrade-insecure-requests': '1',\n",
    "'user-agent': 'Mozilla/5.0 (Macintosh; Intel Mac OS X 10_15_5) AppleWebKit/537.36 (KHTML, like Gecko) Chrome/83.0.4103.116 Safari/537.36',\n",
    "'Content-Type':'application/json;charset=UTF-8'}\n",
    "session = requests.Session()\n",
    "resp = session.get(\"https://www.wantgoo.com/stock/twstock/class?id=2\", headers=headers)"
   ]
  },
  {
   "cell_type": "code",
   "execution_count": 100,
   "metadata": {},
   "outputs": [],
   "source": []
  },
  {
   "cell_type": "code",
   "execution_count": 105,
   "metadata": {},
   "outputs": [],
   "source": [
    "session = requests.Session()"
   ]
  },
  {
   "cell_type": "code",
   "execution_count": 108,
   "metadata": {},
   "outputs": [
    {
     "data": {
      "text/plain": [
       "<Response [200]>"
      ]
     },
     "execution_count": 108,
     "metadata": {},
     "output_type": "execute_result"
    }
   ],
   "source": [
    "headers = {'cache-control': 'max-age=0',\n",
    "'cookie': 'cf_clearance=4122fca9d7c55c6e33e15c0492a35c9a35f89da1-1594739376-0-1z973bc509z1a52a93azfd7ef126-150; __cfduid=db357d501a43b15bb9a4bb0a706eaf5ab1594739376; BID=B52353EA-C16A-4C79-B437-72B44A106599; 085F0A94-2C8A-4817-82E9-74152948EEB5=1; static-085F0A94-2C8A-4817-82E9-74152948EEB5=1; BrowserMode=Web; hblid=VvDZ4gUxDPHMiCXC3h7B70H6tFBVaoAL; _smt_uid=5f0dcab4.2c2b83f0; _fbp=fb.1.1594739380295.1099859670; _hjid=497f3ece-97a4-4393-82b2-fd2797da6ef6; _okdetect=%7B%22token%22%3A%2215947393806860%22%2C%22proto%22%3A%22https%3A%22%2C%22host%22%3A%22www.wantgoo.com%22%7D; _ga=GA1.2.366745891.1594739381; _gid=GA1.2.738501783.1594739381; olfsk=olfsk13041462922606728; _ok=8391-691-10-7433; wcsid=O0RXxgFJr9WdlG1W3h7B70H6oAGLBrb4; _okbk=cd4%3Dtrue%2Cvi5%3D0%2Cvi4%3D1594816051136%2Cvi3%3Dactive%2Cvi2%3Dfalse%2Cvi1%3Dfalse%2Ccd8%3Dchat%2Ccd6%3D0%2Ccd5%3Daway%2Ccd3%3Dfalse%2Ccd2%3D0%2Ccd1%3D0%2C; __gads=ID=22b22356bd6664bf:T=1594816095:S=ALNI_MZs6U8VIrqVrC_TuK24TaaS4ucyjA; _okac=654f004a07f29c5fff4e10d9e720d070; _okla=1; _fbc=fb.1.1594817389108.IwAR3yhsvHpkM-FyJIzHbHgrS_AJVbgopMK9BSSUeCsKAtOvb5KB3OvUxrLkY; _hjAbsoluteSessionInProgress=1; _oklv=1594819155034%2CO0RXxgFJr9WdlG1W3h7B70H6oAGLBrb4',\n",
    "'sec-fetch-dest': 'empty',\n",
    "'sec-fetch-mode': 'cors',\n",
    "'sec-fetch-site': 'same-origin',\n",
    "'upgrade-insecure-requests': '1',\n",
    "'user-agent': 'Mozilla/5.0 (Macintosh; Intel Mac OS X 10_15_5) AppleWebKit/537.36 (KHTML, like Gecko) Chrome/83.0.4103.116 Safari/537.36',\n",
    "'x-requested-with':'XMLHttpRequest'}\n",
    "payload = {'types':'8', \n",
    "           'stockno': 2330, \n",
    "           'brokerid':9800,\n",
    "           'dtStart': '20200715',\n",
    "           'dtEnd': '20200715'}\n",
    "r = session.post('https://www.wantgoo.com/stock/adl/agentsataapi', headers=headers, data=payload)\n",
    "r"
   ]
  },
  {
   "cell_type": "code",
   "execution_count": 109,
   "metadata": {},
   "outputs": [
    {
     "data": {
      "text/plain": [
       "'[{\"券商名稱\":0,\"buycount\":148,\"buyprice\":369,\"sellcount\":48,\"sellprice\":369,\"css\":\"up\",\"balance\":\"+100\",\"avgprice\":369},{\"券商名稱\":0,\"buycount\":138,\"buyprice\":368.5,\"sellcount\":55,\"sellprice\":368.5,\"css\":\"up\",\"balance\":\"+83\",\"avgprice\":368.5},{\"券商名稱\":0,\"buycount\":55,\"buyprice\":362,\"sellcount\":30,\"sellprice\":362,\"css\":\"up\",\"balance\":\"+25\",\"avgprice\":362},{\"券商名稱\":0,\"buycount\":24,\"buyprice\":366.5,\"sellcount\":2,\"sellprice\":366.5,\"css\":\"up\",\"balance\":\"+22\",\"avgprice\":366.5},{\"券商名稱\":0,\"buycount\":28,\"buyprice\":365.5,\"sellcount\":16,\"sellprice\":365.5,\"css\":\"up\",\"balance\":\"+12\",\"avgprice\":365.5},{\"券商名稱\":0,\"buycount\":1,\"buyprice\":361.5,\"sellcount\":1,\"sellprice\":361.5,\"css\":\"up\",\"balance\":\"+0\",\"avgprice\":361.5},{\"券商名稱\":0,\"buycount\":92,\"buyprice\":368,\"sellcount\":97,\"sellprice\":368,\"css\":\"dn\",\"balance\":\"-5\",\"avgprice\":368},{\"券商名稱\":0,\"buycount\":16,\"buyprice\":370,\"sellcount\":26,\"sellprice\":370,\"css\":\"dn\",\"balance\":\"-10\",\"avgprice\":370},{\"券商名稱\":0,\"buycount\":40,\"buyprice\":367.5,\"sellcount\":62,\"sellprice\":367.5,\"css\":\"dn\",\"balance\":\"-22\",\"avgprice\":367.5},{\"券商名稱\":0,\"buycount\":62,\"buyprice\":369.5,\"sellcount\":89,\"sellprice\":369.5,\"css\":\"dn\",\"balance\":\"-27\",\"avgprice\":369.5},{\"券商名稱\":0,\"buycount\":44,\"buyprice\":367,\"sellcount\":77,\"sellprice\":367,\"css\":\"dn\",\"balance\":\"-33\",\"avgprice\":367},{\"券商名稱\":0,\"buycount\":40,\"buyprice\":365,\"sellcount\":98,\"sellprice\":365,\"css\":\"dn\",\"balance\":\"-58\",\"avgprice\":365},{\"券商名稱\":0,\"buycount\":19,\"buyprice\":366,\"sellcount\":87,\"sellprice\":366,\"css\":\"dn\",\"balance\":\"-68\",\"avgprice\":366},{\"券商名稱\":0,\"buycount\":22,\"buyprice\":362.5,\"sellcount\":119,\"sellprice\":362.5,\"css\":\"dn\",\"balance\":\"-97\",\"avgprice\":362.5},{\"券商名稱\":0,\"buycount\":137,\"buyprice\":363,\"sellcount\":282,\"sellprice\":363,\"css\":\"dn\",\"balance\":\"-145\",\"avgprice\":363},{\"券商名稱\":0,\"buycount\":253,\"buyprice\":364.5,\"sellcount\":414,\"sellprice\":364.5,\"css\":\"dn\",\"balance\":\"-161\",\"avgprice\":364.5},{\"券商名稱\":0,\"buycount\":287,\"buyprice\":364,\"sellcount\":522,\"sellprice\":364,\"css\":\"dn\",\"balance\":\"-235\",\"avgprice\":364},{\"券商名稱\":0,\"buycount\":55,\"buyprice\":363.5,\"sellcount\":297,\"sellprice\":363.5,\"css\":\"dn\",\"balance\":\"-242\",\"avgprice\":363.5}]'"
      ]
     },
     "execution_count": 109,
     "metadata": {},
     "output_type": "execute_result"
    }
   ],
   "source": [
    "r.text"
   ]
  },
  {
   "cell_type": "code",
   "execution_count": 89,
   "metadata": {},
   "outputs": [
    {
     "data": {
      "text/plain": [
       "'[{\"券商名稱\":0,\"buycount\":1084,\"buyprice\":368,\"sellcount\":605,\"sellprice\":368,\"css\":\"up\",\"balance\":\"+479\",\"avgprice\":368},{\"券商名稱\":0,\"buycount\":777,\"buyprice\":355,\"sellcount\":348,\"sellprice\":355,\"css\":\"up\",\"balance\":\"+429\",\"avgprice\":355},{\"券商名稱\":0,\"buycount\":620,\"buyprice\":368.5,\"sellcount\":307,\"sellprice\":368.5,\"css\":\"up\",\"balance\":\"+313\",\"avgprice\":368.5},{\"券商名稱\":0,\"buycount\":600,\"buyprice\":367.5,\"sellcount\":320,\"sellprice\":367.5,\"css\":\"up\",\"balance\":\"+280\",\"avgprice\":367.5},{\"券商名稱\":0,\"buycount\":479,\"buyprice\":356.5,\"sellcount\":285,\"sellprice\":356.5,\"css\":\"up\",\"balance\":\"+194\",\"avgprice\":356.5},{\"券商名稱\":0,\"buycount\":642,\"buyprice\":369.5,\"sellcount\":490,\"sellprice\":369.5,\"css\":\"up\",\"balance\":\"+152\",\"avgprice\":369.5},{\"券商名稱\":0,\"buycount\":682,\"buyprice\":369,\"sellcount\":532,\"sellprice\":369,\"css\":\"up\",\"balance\":\"+150\",\"avgprice\":369},{\"券商名稱\":0,\"buycount\":693,\"buyprice\":357,\"sellcount\":562,\"sellprice\":357,\"css\":\"up\",\"balance\":\"+131\",\"avgprice\":357},{\"券商名稱\":0,\"buycount\":170,\"buyprice\":365.5,\"sellcount\":105,\"sellprice\":365.5,\"css\":\"up\",\"balance\":\"+65\",\"avgprice\":365.5},{\"券商名稱\":0,\"buycount\":257,\"buyprice\":359,\"sellcount\":220,\"sellprice\":359,\"css\":\"up\",\"balance\":\"+37\",\"avgprice\":359},{\"券商名稱\":0,\"buycount\":61,\"buyprice\":360.5,\"sellcount\":35,\"sellprice\":360.5,\"css\":\"up\",\"balance\":\"+26\",\"avgprice\":360.5},{\"券商名稱\":0,\"buycount\":89,\"buyprice\":361,\"sellcount\":66,\"sellprice\":361,\"css\":\"up\",\"balance\":\"+23\",\"avgprice\":361},{\"券商名稱\":0,\"buycount\":14,\"buyprice\":354.5,\"sellcount\":7,\"sellprice\":354.5,\"css\":\"up\",\"balance\":\"+7\",\"avgprice\":354.5},{\"券商名稱\":0,\"buycount\":307,\"buyprice\":367,\"sellcount\":307,\"sellprice\":367,\"css\":\"up\",\"balance\":\"+0\",\"avgprice\":367},{\"券商名稱\":0,\"buycount\":99,\"buyprice\":359.5,\"sellcount\":113,\"sellprice\":359.5,\"css\":\"dn\",\"balance\":\"-14\",\"avgprice\":359.5},{\"券商名稱\":0,\"buycount\":572,\"buyprice\":364.5,\"sellcount\":605,\"sellprice\":364.5,\"css\":\"dn\",\"balance\":\"-33\",\"avgprice\":364.5},{\"券商名稱\":0,\"buycount\":143,\"buyprice\":370,\"sellcount\":186,\"sellprice\":370,\"css\":\"dn\",\"balance\":\"-43\",\"avgprice\":370},{\"券商名稱\":0,\"buycount\":47,\"buyprice\":358.5,\"sellcount\":95,\"sellprice\":358.5,\"css\":\"dn\",\"balance\":\"-48\",\"avgprice\":358.5},{\"券商名稱\":0,\"buycount\":411,\"buyprice\":366,\"sellcount\":469,\"sellprice\":366,\"css\":\"dn\",\"balance\":\"-58\",\"avgprice\":366},{\"券商名稱\":0,\"buycount\":189,\"buyprice\":355.5,\"sellcount\":258,\"sellprice\":355.5,\"css\":\"dn\",\"balance\":\"-69\",\"avgprice\":355.5},{\"券商名稱\":0,\"buycount\":366,\"buyprice\":357.5,\"sellcount\":465,\"sellprice\":357.5,\"css\":\"dn\",\"balance\":\"-99\",\"avgprice\":357.5},{\"券商名稱\":0,\"buycount\":222,\"buyprice\":365,\"sellcount\":348,\"sellprice\":365,\"css\":\"dn\",\"balance\":\"-126\",\"avgprice\":365},{\"券商名稱\":0,\"buycount\":413,\"buyprice\":362,\"sellcount\":541,\"sellprice\":362,\"css\":\"dn\",\"balance\":\"-128\",\"avgprice\":362},{\"券商名稱\":0,\"buycount\":691,\"buyprice\":363,\"sellcount\":822,\"sellprice\":363,\"css\":\"dn\",\"balance\":\"-131\",\"avgprice\":363},{\"券商名稱\":0,\"buycount\":109,\"buyprice\":366.5,\"sellcount\":251,\"sellprice\":366.5,\"css\":\"dn\",\"balance\":\"-142\",\"avgprice\":366.5},{\"券商名稱\":0,\"buycount\":227,\"buyprice\":358,\"sellcount\":393,\"sellprice\":358,\"css\":\"dn\",\"balance\":\"-166\",\"avgprice\":358},{\"券商名稱\":0,\"buycount\":693,\"buyprice\":364,\"sellcount\":889,\"sellprice\":364,\"css\":\"dn\",\"balance\":\"-196\",\"avgprice\":364},{\"券商名稱\":0,\"buycount\":177,\"buyprice\":362.5,\"sellcount\":441,\"sellprice\":362.5,\"css\":\"dn\",\"balance\":\"-264\",\"avgprice\":362.5},{\"券商名稱\":0,\"buycount\":531,\"buyprice\":356,\"sellcount\":811,\"sellprice\":356,\"css\":\"dn\",\"balance\":\"-280\",\"avgprice\":356},{\"券商名稱\":0,\"buycount\":66,\"buyprice\":361.5,\"sellcount\":377,\"sellprice\":361.5,\"css\":\"dn\",\"balance\":\"-311\",\"avgprice\":361.5},{\"券商名稱\":0,\"buycount\":163,\"buyprice\":360,\"sellcount\":489,\"sellprice\":360,\"css\":\"dn\",\"balance\":\"-326\",\"avgprice\":360},{\"券商名稱\":0,\"buycount\":514,\"buyprice\":363.5,\"sellcount\":1016,\"sellprice\":363.5,\"css\":\"dn\",\"balance\":\"-502\",\"avgprice\":363.5}]'"
      ]
     },
     "execution_count": 89,
     "metadata": {},
     "output_type": "execute_result"
    }
   ],
   "source": [
    "a"
   ]
  },
  {
   "cell_type": "code",
   "execution_count": 86,
   "metadata": {},
   "outputs": [
    {
     "data": {
      "text/plain": [
       "'[{\"券商名稱\":0,\"buycount\":1084,\"buyprice\":368,\"sellcount\":605,\"sellprice\":368,\"css\":\"up\",\"balance\":\"+479\",\"avgprice\":368},{\"券商名稱\":0,\"buycount\":777,\"buyprice\":355,\"sellcount\":348,\"sellprice\":355,\"css\":\"up\",\"balance\":\"+429\",\"avgprice\":355},{\"券商名稱\":0,\"buycount\":620,\"buyprice\":368.5,\"sellcount\":307,\"sellprice\":368.5,\"css\":\"up\",\"balance\":\"+313\",\"avgprice\":368.5},{\"券商名稱\":0,\"buycount\":600,\"buyprice\":367.5,\"sellcount\":320,\"sellprice\":367.5,\"css\":\"up\",\"balance\":\"+280\",\"avgprice\":367.5},{\"券商名稱\":0,\"buycount\":479,\"buyprice\":356.5,\"sellcount\":285,\"sellprice\":356.5,\"css\":\"up\",\"balance\":\"+194\",\"avgprice\":356.5},{\"券商名稱\":0,\"buycount\":642,\"buyprice\":369.5,\"sellcount\":490,\"sellprice\":369.5,\"css\":\"up\",\"balance\":\"+152\",\"avgprice\":369.5},{\"券商名稱\":0,\"buycount\":682,\"buyprice\":369,\"sellcount\":532,\"sellprice\":369,\"css\":\"up\",\"balance\":\"+150\",\"avgprice\":369},{\"券商名稱\":0,\"buycount\":693,\"buyprice\":357,\"sellcount\":562,\"sellprice\":357,\"css\":\"up\",\"balance\":\"+131\",\"avgprice\":357},{\"券商名稱\":0,\"buycount\":170,\"buyprice\":365.5,\"sellcount\":105,\"sellprice\":365.5,\"css\":\"up\",\"balance\":\"+65\",\"avgprice\":365.5},{\"券商名稱\":0,\"buycount\":257,\"buyprice\":359,\"sellcount\":220,\"sellprice\":359,\"css\":\"up\",\"balance\":\"+37\",\"avgprice\":359},{\"券商名稱\":0,\"buycount\":61,\"buyprice\":360.5,\"sellcount\":35,\"sellprice\":360.5,\"css\":\"up\",\"balance\":\"+26\",\"avgprice\":360.5},{\"券商名稱\":0,\"buycount\":89,\"buyprice\":361,\"sellcount\":66,\"sellprice\":361,\"css\":\"up\",\"balance\":\"+23\",\"avgprice\":361},{\"券商名稱\":0,\"buycount\":14,\"buyprice\":354.5,\"sellcount\":7,\"sellprice\":354.5,\"css\":\"up\",\"balance\":\"+7\",\"avgprice\":354.5},{\"券商名稱\":0,\"buycount\":307,\"buyprice\":367,\"sellcount\":307,\"sellprice\":367,\"css\":\"up\",\"balance\":\"+0\",\"avgprice\":367},{\"券商名稱\":0,\"buycount\":99,\"buyprice\":359.5,\"sellcount\":113,\"sellprice\":359.5,\"css\":\"dn\",\"balance\":\"-14\",\"avgprice\":359.5},{\"券商名稱\":0,\"buycount\":572,\"buyprice\":364.5,\"sellcount\":605,\"sellprice\":364.5,\"css\":\"dn\",\"balance\":\"-33\",\"avgprice\":364.5},{\"券商名稱\":0,\"buycount\":143,\"buyprice\":370,\"sellcount\":186,\"sellprice\":370,\"css\":\"dn\",\"balance\":\"-43\",\"avgprice\":370},{\"券商名稱\":0,\"buycount\":47,\"buyprice\":358.5,\"sellcount\":95,\"sellprice\":358.5,\"css\":\"dn\",\"balance\":\"-48\",\"avgprice\":358.5},{\"券商名稱\":0,\"buycount\":411,\"buyprice\":366,\"sellcount\":469,\"sellprice\":366,\"css\":\"dn\",\"balance\":\"-58\",\"avgprice\":366},{\"券商名稱\":0,\"buycount\":189,\"buyprice\":355.5,\"sellcount\":258,\"sellprice\":355.5,\"css\":\"dn\",\"balance\":\"-69\",\"avgprice\":355.5},{\"券商名稱\":0,\"buycount\":366,\"buyprice\":357.5,\"sellcount\":465,\"sellprice\":357.5,\"css\":\"dn\",\"balance\":\"-99\",\"avgprice\":357.5},{\"券商名稱\":0,\"buycount\":222,\"buyprice\":365,\"sellcount\":348,\"sellprice\":365,\"css\":\"dn\",\"balance\":\"-126\",\"avgprice\":365},{\"券商名稱\":0,\"buycount\":413,\"buyprice\":362,\"sellcount\":541,\"sellprice\":362,\"css\":\"dn\",\"balance\":\"-128\",\"avgprice\":362},{\"券商名稱\":0,\"buycount\":691,\"buyprice\":363,\"sellcount\":822,\"sellprice\":363,\"css\":\"dn\",\"balance\":\"-131\",\"avgprice\":363},{\"券商名稱\":0,\"buycount\":109,\"buyprice\":366.5,\"sellcount\":251,\"sellprice\":366.5,\"css\":\"dn\",\"balance\":\"-142\",\"avgprice\":366.5},{\"券商名稱\":0,\"buycount\":227,\"buyprice\":358,\"sellcount\":393,\"sellprice\":358,\"css\":\"dn\",\"balance\":\"-166\",\"avgprice\":358},{\"券商名稱\":0,\"buycount\":693,\"buyprice\":364,\"sellcount\":889,\"sellprice\":364,\"css\":\"dn\",\"balance\":\"-196\",\"avgprice\":364},{\"券商名稱\":0,\"buycount\":177,\"buyprice\":362.5,\"sellcount\":441,\"sellprice\":362.5,\"css\":\"dn\",\"balance\":\"-264\",\"avgprice\":362.5},{\"券商名稱\":0,\"buycount\":531,\"buyprice\":356,\"sellcount\":811,\"sellprice\":356,\"css\":\"dn\",\"balance\":\"-280\",\"avgprice\":356},{\"券商名稱\":0,\"buycount\":66,\"buyprice\":361.5,\"sellcount\":377,\"sellprice\":361.5,\"css\":\"dn\",\"balance\":\"-311\",\"avgprice\":361.5},{\"券商名稱\":0,\"buycount\":163,\"buyprice\":360,\"sellcount\":489,\"sellprice\":360,\"css\":\"dn\",\"balance\":\"-326\",\"avgprice\":360},{\"券商名稱\":0,\"buycount\":514,\"buyprice\":363.5,\"sellcount\":1016,\"sellprice\":363.5,\"css\":\"dn\",\"balance\":\"-502\",\"avgprice\":363.5}]'"
      ]
     },
     "execution_count": 86,
     "metadata": {},
     "output_type": "execute_result"
    }
   ],
   "source": []
  },
  {
   "cell_type": "code",
   "execution_count": null,
   "metadata": {},
   "outputs": [],
   "source": []
  }
 ],
 "metadata": {
  "kernelspec": {
   "display_name": "Python 3",
   "language": "python",
   "name": "python3"
  },
  "language_info": {
   "codemirror_mode": {
    "name": "ipython",
    "version": 3
   },
   "file_extension": ".py",
   "mimetype": "text/x-python",
   "name": "python",
   "nbconvert_exporter": "python",
   "pygments_lexer": "ipython3",
   "version": "3.7.3"
  }
 },
 "nbformat": 4,
 "nbformat_minor": 2
}
